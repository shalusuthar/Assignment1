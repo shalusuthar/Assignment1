{
 "cells": [
  {
   "cell_type": "markdown",
   "id": "f557999e-ad4f-4264-8719-e91bd5ac8fc9",
   "metadata": {},
   "source": [
    "Q1.Create one variable containing following type of data:\n",
    "\n",
    "(1)string = \"science\"\n",
    "\n",
    "(2)list = [22 , 33.4, \"book\" , \"test\" , True]\n",
    "\n",
    "(3)float = 44.67\n",
    "\n",
    "(4)tuple = (\"subject\" , 90 , \"marks\" , False)"
   ]
  },
  {
   "cell_type": "code",
   "execution_count": 2,
   "id": "ea7a5d4a-3114-472c-8954-ca78cbe7014c",
   "metadata": {},
   "outputs": [],
   "source": [
    "a = \"science\""
   ]
  },
  {
   "cell_type": "code",
   "execution_count": 3,
   "id": "6b462154-044e-4cc0-9c92-468eafffd2e5",
   "metadata": {},
   "outputs": [
    {
     "data": {
      "text/plain": [
       "str"
      ]
     },
     "execution_count": 3,
     "metadata": {},
     "output_type": "execute_result"
    }
   ],
   "source": [
    "type(a)"
   ]
  },
  {
   "cell_type": "code",
   "execution_count": 4,
   "id": "8dde8641-1127-4e29-8810-5604bce30a4a",
   "metadata": {},
   "outputs": [],
   "source": [
    "b = [22, 33.4, \"book\" , \"test\" , True]"
   ]
  },
  {
   "cell_type": "code",
   "execution_count": 5,
   "id": "11e21766-4aa3-4f7a-8d5b-a5c807328aac",
   "metadata": {},
   "outputs": [
    {
     "data": {
      "text/plain": [
       "list"
      ]
     },
     "execution_count": 5,
     "metadata": {},
     "output_type": "execute_result"
    }
   ],
   "source": [
    "type(b)"
   ]
  },
  {
   "cell_type": "code",
   "execution_count": 6,
   "id": "813ab3d3-fdfa-4073-bd30-c6c5c17a6e0e",
   "metadata": {},
   "outputs": [],
   "source": [
    "c = 44.67"
   ]
  },
  {
   "cell_type": "code",
   "execution_count": 7,
   "id": "fa757b69-625e-4035-a93f-12e39b3623e5",
   "metadata": {},
   "outputs": [
    {
     "data": {
      "text/plain": [
       "float"
      ]
     },
     "execution_count": 7,
     "metadata": {},
     "output_type": "execute_result"
    }
   ],
   "source": [
    "type(c)"
   ]
  },
  {
   "cell_type": "code",
   "execution_count": 8,
   "id": "c5d43dc8-b0dd-41b5-99e7-fd8e519f3c39",
   "metadata": {},
   "outputs": [],
   "source": [
    "d = (\"subject\" , \"90\" , \"marks\" , False)"
   ]
  },
  {
   "cell_type": "code",
   "execution_count": 9,
   "id": "01e494f4-ccba-4451-ba44-c386c9f1977e",
   "metadata": {},
   "outputs": [
    {
     "data": {
      "text/plain": [
       "tuple"
      ]
     },
     "execution_count": 9,
     "metadata": {},
     "output_type": "execute_result"
    }
   ],
   "source": [
    "type(d)"
   ]
  },
  {
   "cell_type": "code",
   "execution_count": null,
   "id": "ead730c7-2861-4b6e-bf58-23c0b16ec86b",
   "metadata": {},
   "outputs": [],
   "source": []
  },
  {
   "cell_type": "markdown",
   "id": "0a5d9d9a-da0b-4a2b-87f2-efe552206b2a",
   "metadata": {},
   "source": [
    "Q2. Given are some following variables containing data:\n",
    "    what will be data type of given varables?\n",
    "\n",
    "(1).var1 = ' ' \n",
    "Ans. String\n",
    "\n",
    "  (2).var2 = '[DS , ML, python]'\n",
    "  Ans. String\n",
    "  \n",
    "  (3).var3 = ['DS' , 'ML' , 'python']\n",
    "  Ans. List\n",
    "  \n",
    "  (4).var4 = 1\n",
    "  Ans. Integer"
   ]
  },
  {
   "cell_type": "code",
   "execution_count": null,
   "id": "2e58a193-a155-454c-be48-133abf2692a6",
   "metadata": {},
   "outputs": [],
   "source": []
  },
  {
   "cell_type": "markdown",
   "id": "c30a8537-210a-405e-9682-2e077163c44d",
   "metadata": {},
   "source": [
    "Q3. Explain the use of the following operators using an example:\n",
    "\n",
    "(1)/ = Float division involves the dividing the left-hand operand in python programming.This operation yields a            floating-point result, allowing for the inclusion of decimal values inthe outcome.\n",
    "    Example : 2/5 = 2.5\n",
    "    \n",
    "(2)% = It returns the remainder of dividing the left hand operanad by right hand operand. It is used to get the            remainder of a division problem.\n",
    "    Example : 24%5 \n",
    "        \n",
    "(3)// = It produces a result that is rounded down to the nearest integer.It produces a quotient without decimal             digits. It is known as floor division the floor division operator adjusts its beahvior for negative                 operands, ensuring consistent results.\n",
    "    Example: 5//2 = 2, \n",
    "    -11//3 = -4\n",
    "            \n",
    "(4)** = It acts as exponential operator for numeric values. When used in function desfiniton, it allows the                 programmer to input multiple argument and parameters. It is also known as power operator.\n",
    "    Example : 2**3 = 8"
   ]
  },
  {
   "cell_type": "code",
   "execution_count": null,
   "id": "17a0be07-acde-458f-a612-697e8da8c250",
   "metadata": {},
   "outputs": [],
   "source": []
  },
  {
   "cell_type": "markdown",
   "id": "96398972-3d95-406a-aab2-1f304a9624d4",
   "metadata": {},
   "source": [
    "Q4. Create a list of length 10 of your choice containing multiple types of data. Using for loop print the element       and its data type."
   ]
  },
  {
   "cell_type": "code",
   "execution_count": 48,
   "id": "c2af2a8f-bca7-48ea-813d-15f3d95894b6",
   "metadata": {},
   "outputs": [],
   "source": [
    "a = [10, 20 , 50, 21.3, 'geekyS', 'school' , 'book' , True, 'world' , False]"
   ]
  },
  {
   "cell_type": "code",
   "execution_count": 50,
   "id": "5a834e5a-894a-4248-b474-e2b0910a212c",
   "metadata": {},
   "outputs": [
    {
     "name": "stdout",
     "output_type": "stream",
     "text": [
      "<class 'int'>\n",
      "<class 'int'>\n",
      "<class 'int'>\n",
      "<class 'float'>\n",
      "<class 'str'>\n",
      "<class 'str'>\n",
      "<class 'str'>\n",
      "<class 'bool'>\n",
      "<class 'str'>\n",
      "<class 'bool'>\n"
     ]
    }
   ],
   "source": [
    "for i in a : \n",
    "    print(type(i))"
   ]
  },
  {
   "cell_type": "code",
   "execution_count": null,
   "id": "0addac91-944d-4997-b2e9-8981bbab5476",
   "metadata": {},
   "outputs": [],
   "source": []
  },
  {
   "cell_type": "markdown",
   "id": "9e3153c0-2360-43db-b116-2e93586ae402",
   "metadata": {},
   "source": [
    "Q5. Using a while loop, verify if the number A is purely divisible by number B and if so then how many times it can be divisible."
   ]
  },
  {
   "cell_type": "code",
   "execution_count": null,
   "id": "18a9edd4-cd9b-42a9-b415-bae947eb782a",
   "metadata": {},
   "outputs": [],
   "source": [
    "a = int(input())\n",
    "b = int(input())\n",
    "c =0 \n",
    "if(a/b == 0) :\n",
    "     while ((a/b>= b) and type (a/b)) : \n",
    "        c+=1 \n",
    "        a/=b\n",
    "        c\n",
    "else :\n",
    "    print(\"not divisible\")"
   ]
  },
  {
   "cell_type": "markdown",
   "id": "3ac2c98b-506a-4565-bbf2-3ee1bcc10953",
   "metadata": {},
   "source": [
    "not divisible"
   ]
  },
  {
   "cell_type": "markdown",
   "id": "9ac7bce2-c2db-4f75-816b-7bf4078dc266",
   "metadata": {},
   "source": [
    "Q6. Create a list containing 25 int type data. Using for loop and if-else condition print if the element is divisible by 3 or not."
   ]
  },
  {
   "cell_type": "code",
   "execution_count": 4,
   "id": "4fcaf812-c7a5-45c6-9218-1fa1cf041920",
   "metadata": {},
   "outputs": [
    {
     "data": {
      "text/plain": [
       "[3, 6, 9, 12, 15, 18, 21, 24]"
      ]
     },
     "execution_count": 4,
     "metadata": {},
     "output_type": "execute_result"
    }
   ],
   "source": [
    "l = [1,2,3,4,5,6,7,8,9,10,11,12,13,14,15,16,17,18,19,20,21,22,23,24,25]\n",
    "l1 =[]\n",
    "l2 =[]\n",
    "for i in l:\n",
    "    if i%3 == 0:\n",
    "        l1.append(i)\n",
    "    else:\n",
    "        l2.append(i)\n",
    "l1"
   ]
  },
  {
   "cell_type": "code",
   "execution_count": 5,
   "id": "54d1dfa3-3be5-463a-80cc-6cc7fd2e6eb4",
   "metadata": {},
   "outputs": [
    {
     "data": {
      "text/plain": [
       "[1, 2, 4, 5, 7, 8, 10, 11, 13, 14, 16, 17, 19, 20, 22, 23, 25]"
      ]
     },
     "execution_count": 5,
     "metadata": {},
     "output_type": "execute_result"
    }
   ],
   "source": [
    "l2"
   ]
  },
  {
   "cell_type": "code",
   "execution_count": null,
   "id": "92652931-2eb9-4ffa-9c84-3401d1ac388b",
   "metadata": {},
   "outputs": [],
   "source": []
  },
  {
   "cell_type": "markdown",
   "id": "7dc2994c-af5d-4dac-9398-3224778d5413",
   "metadata": {},
   "source": [
    "Q7. What do you unerstand about mutable and immutable data types? Give examples for both showing this property."
   ]
  },
  {
   "cell_type": "markdown",
   "id": "a0e3bd61-748b-4911-90bd-04aaf788d6ce",
   "metadata": {},
   "source": [
    "Ans.Mutable data type = Mutable data types are those,  whose values can be modified.\n",
    "                        Examples = list, set and dictionary\n",
    "        "
   ]
  },
  {
   "cell_type": "code",
   "execution_count": 12,
   "id": "47dbb0cb-9591-4ccc-98e8-39f2a0b76075",
   "metadata": {},
   "outputs": [],
   "source": [
    "#examples of mutable data types,\n",
    "f = [1,2,3,4]"
   ]
  },
  {
   "cell_type": "code",
   "execution_count": 13,
   "id": "0e0b4f73-7ef4-4d1c-8e9a-7cf143dc418d",
   "metadata": {},
   "outputs": [],
   "source": [
    "f[0] = 2"
   ]
  },
  {
   "cell_type": "code",
   "execution_count": 14,
   "id": "ab57ac2e-813b-4119-993e-8060e07b9742",
   "metadata": {},
   "outputs": [
    {
     "data": {
      "text/plain": [
       "[2, 2, 3, 4]"
      ]
     },
     "execution_count": 14,
     "metadata": {},
     "output_type": "execute_result"
    }
   ],
   "source": [
    "f"
   ]
  },
  {
   "cell_type": "markdown",
   "id": "51144e7c-3b66-4078-a87c-b29b59bb7816",
   "metadata": {},
   "source": [
    "Immutable data type = Immutable data types are those, whose values can not be modified once they are created. Examples = int, str, bool, float, tuple,etc."
   ]
  },
  {
   "cell_type": "code",
   "execution_count": 21,
   "id": "9b869578-6441-4825-854f-3aae47449ba6",
   "metadata": {},
   "outputs": [],
   "source": [
    "#examples of immutable data type:\n",
    "s = (1,2)"
   ]
  },
  {
   "cell_type": "code",
   "execution_count": 22,
   "id": "8b0a03b4-4f4d-4ca0-a8d6-c952cc0d8683",
   "metadata": {},
   "outputs": [
    {
     "ename": "TypeError",
     "evalue": "'tuple' object does not support item assignment",
     "output_type": "error",
     "traceback": [
      "\u001b[0;31m---------------------------------------------------------------------------\u001b[0m",
      "\u001b[0;31mTypeError\u001b[0m                                 Traceback (most recent call last)",
      "Cell \u001b[0;32mIn[22], line 1\u001b[0m\n\u001b[0;32m----> 1\u001b[0m \u001b[43ms\u001b[49m\u001b[43m[\u001b[49m\u001b[38;5;241;43m0\u001b[39;49m\u001b[43m]\u001b[49m \u001b[38;5;241m=\u001b[39m \u001b[38;5;241m3\u001b[39m \n",
      "\u001b[0;31mTypeError\u001b[0m: 'tuple' object does not support item assignment"
     ]
    }
   ],
   "source": [
    "s[0] = 3 "
   ]
  },
  {
   "cell_type": "code",
   "execution_count": null,
   "id": "99ba9832-ae40-46f6-90a6-61fc8058e0ff",
   "metadata": {},
   "outputs": [],
   "source": []
  }
 ],
 "metadata": {
  "kernelspec": {
   "display_name": "Python 3 (ipykernel)",
   "language": "python",
   "name": "python3"
  },
  "language_info": {
   "codemirror_mode": {
    "name": "ipython",
    "version": 3
   },
   "file_extension": ".py",
   "mimetype": "text/x-python",
   "name": "python",
   "nbconvert_exporter": "python",
   "pygments_lexer": "ipython3",
   "version": "3.10.8"
  }
 },
 "nbformat": 4,
 "nbformat_minor": 5
}
